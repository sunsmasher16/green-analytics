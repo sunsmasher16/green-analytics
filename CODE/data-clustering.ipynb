{
 "cells": [
  {
   "cell_type": "code",
   "execution_count": 1,
   "metadata": {},
   "outputs": [],
   "source": [
    "import numpy as np\n",
    "import pandas as pd\n",
    "import statsmodels.api as sm\n",
    "import matplotlib.pyplot as plt\n",
    "import os\n",
    "import seaborn as sns\n",
    "sns.set()\n",
    "# For scaling the data\n",
    "from sklearn.preprocessing import scale\n",
    "\n",
    "# To perform K-means clustering\n",
    "from sklearn.cluster import KMeans\n",
    "\n",
    "# To perform PCA\n",
    "from sklearn.decomposition import PCA\n",
    "\n",
    "#To perform hierarchical clustering\n",
    "from scipy.cluster.hierarchy import linkage\n",
    "from scipy.cluster.hierarchy import dendrogram\n",
    "from scipy.cluster.hierarchy import cut_tree"
   ]
  },
  {
   "cell_type": "code",
   "execution_count": 2,
   "metadata": {},
   "outputs": [
    {
     "data": {
      "text/plain": [
       "'C:\\\\Users\\\\sunee\\\\OneDrive\\\\Documents\\\\Georgia Tech\\\\MS Analytics\\\\CSE 6242\\\\Project\\\\latest\\\\git_gatech\\\\CODE\\\\data'"
      ]
     },
     "execution_count": 2,
     "metadata": {},
     "output_type": "execute_result"
    }
   ],
   "source": [
    "os.chdir(\"./data\")\n",
    "os.getcwd()"
   ]
  },
  {
   "cell_type": "code",
   "execution_count": 3,
   "metadata": {},
   "outputs": [
    {
     "data": {
      "text/html": [
       "<div>\n",
       "<style scoped>\n",
       "    .dataframe tbody tr th:only-of-type {\n",
       "        vertical-align: middle;\n",
       "    }\n",
       "\n",
       "    .dataframe tbody tr th {\n",
       "        vertical-align: top;\n",
       "    }\n",
       "\n",
       "    .dataframe thead th {\n",
       "        text-align: right;\n",
       "    }\n",
       "</style>\n",
       "<table border=\"1\" class=\"dataframe\">\n",
       "  <thead>\n",
       "    <tr style=\"text-align: right;\">\n",
       "      <th></th>\n",
       "      <th>country_id</th>\n",
       "      <th>level</th>\n",
       "      <th>factor</th>\n",
       "      <th>measure</th>\n",
       "      <th>factor_rank</th>\n",
       "    </tr>\n",
       "  </thead>\n",
       "  <tbody>\n",
       "    <tr>\n",
       "      <th>0</th>\n",
       "      <td>139</td>\n",
       "      <td>weak-linear</td>\n",
       "      <td>hdi</td>\n",
       "      <td>0.00</td>\n",
       "      <td>4</td>\n",
       "    </tr>\n",
       "    <tr>\n",
       "      <th>1</th>\n",
       "      <td>193</td>\n",
       "      <td>mid-linear</td>\n",
       "      <td>hdi</td>\n",
       "      <td>-0.40</td>\n",
       "      <td>4</td>\n",
       "    </tr>\n",
       "    <tr>\n",
       "      <th>2</th>\n",
       "      <td>0</td>\n",
       "      <td>mid-linear</td>\n",
       "      <td>hdi</td>\n",
       "      <td>-0.63</td>\n",
       "      <td>2</td>\n",
       "    </tr>\n",
       "    <tr>\n",
       "      <th>3</th>\n",
       "      <td>96</td>\n",
       "      <td>mid-linear</td>\n",
       "      <td>hdi</td>\n",
       "      <td>0.34</td>\n",
       "      <td>3</td>\n",
       "    </tr>\n",
       "    <tr>\n",
       "      <th>4</th>\n",
       "      <td>148</td>\n",
       "      <td>weak-linear</td>\n",
       "      <td>hdi</td>\n",
       "      <td>-0.14</td>\n",
       "      <td>5</td>\n",
       "    </tr>\n",
       "    <tr>\n",
       "      <th>...</th>\n",
       "      <td>...</td>\n",
       "      <td>...</td>\n",
       "      <td>...</td>\n",
       "      <td>...</td>\n",
       "      <td>...</td>\n",
       "    </tr>\n",
       "    <tr>\n",
       "      <th>1444</th>\n",
       "      <td>124</td>\n",
       "      <td>weak-linear</td>\n",
       "      <td>unemployment</td>\n",
       "      <td>0.00</td>\n",
       "      <td>4</td>\n",
       "    </tr>\n",
       "    <tr>\n",
       "      <th>1445</th>\n",
       "      <td>161</td>\n",
       "      <td>weak-linear</td>\n",
       "      <td>unemployment</td>\n",
       "      <td>0.00</td>\n",
       "      <td>4</td>\n",
       "    </tr>\n",
       "    <tr>\n",
       "      <th>1446</th>\n",
       "      <td>26</td>\n",
       "      <td>strong-linear</td>\n",
       "      <td>unemployment</td>\n",
       "      <td>1.00</td>\n",
       "      <td>1</td>\n",
       "    </tr>\n",
       "    <tr>\n",
       "      <th>1447</th>\n",
       "      <td>83</td>\n",
       "      <td>weak-linear</td>\n",
       "      <td>unemployment</td>\n",
       "      <td>0.00</td>\n",
       "      <td>4</td>\n",
       "    </tr>\n",
       "    <tr>\n",
       "      <th>1448</th>\n",
       "      <td>87</td>\n",
       "      <td>weak-linear</td>\n",
       "      <td>unemployment</td>\n",
       "      <td>0.00</td>\n",
       "      <td>4</td>\n",
       "    </tr>\n",
       "  </tbody>\n",
       "</table>\n",
       "<p>1449 rows × 5 columns</p>\n",
       "</div>"
      ],
      "text/plain": [
       "      country_id          level        factor  measure  factor_rank\n",
       "0            139    weak-linear           hdi     0.00            4\n",
       "1            193     mid-linear           hdi    -0.40            4\n",
       "2              0     mid-linear           hdi    -0.63            2\n",
       "3             96     mid-linear           hdi     0.34            3\n",
       "4            148    weak-linear           hdi    -0.14            5\n",
       "...          ...            ...           ...      ...          ...\n",
       "1444         124    weak-linear  unemployment     0.00            4\n",
       "1445         161    weak-linear  unemployment     0.00            4\n",
       "1446          26  strong-linear  unemployment     1.00            1\n",
       "1447          83    weak-linear  unemployment     0.00            4\n",
       "1448          87    weak-linear  unemployment     0.00            4\n",
       "\n",
       "[1449 rows x 5 columns]"
      ]
     },
     "execution_count": 3,
     "metadata": {},
     "output_type": "execute_result"
    }
   ],
   "source": [
    "data = pd.read_csv('data_relationship.csv')\n",
    "data"
   ]
  },
  {
   "cell_type": "code",
   "execution_count": 4,
   "metadata": {},
   "outputs": [
    {
     "data": {
      "text/html": [
       "<div>\n",
       "<style scoped>\n",
       "    .dataframe tbody tr th:only-of-type {\n",
       "        vertical-align: middle;\n",
       "    }\n",
       "\n",
       "    .dataframe tbody tr th {\n",
       "        vertical-align: top;\n",
       "    }\n",
       "\n",
       "    .dataframe thead th {\n",
       "        text-align: right;\n",
       "    }\n",
       "</style>\n",
       "<table border=\"1\" class=\"dataframe\">\n",
       "  <thead>\n",
       "    <tr style=\"text-align: right;\">\n",
       "      <th></th>\n",
       "      <th>country_id</th>\n",
       "      <th>factor</th>\n",
       "      <th>measure</th>\n",
       "    </tr>\n",
       "  </thead>\n",
       "  <tbody>\n",
       "    <tr>\n",
       "      <th>0</th>\n",
       "      <td>139</td>\n",
       "      <td>hdi</td>\n",
       "      <td>0.00</td>\n",
       "    </tr>\n",
       "    <tr>\n",
       "      <th>1</th>\n",
       "      <td>193</td>\n",
       "      <td>hdi</td>\n",
       "      <td>-0.40</td>\n",
       "    </tr>\n",
       "    <tr>\n",
       "      <th>2</th>\n",
       "      <td>0</td>\n",
       "      <td>hdi</td>\n",
       "      <td>-0.63</td>\n",
       "    </tr>\n",
       "    <tr>\n",
       "      <th>3</th>\n",
       "      <td>96</td>\n",
       "      <td>hdi</td>\n",
       "      <td>0.34</td>\n",
       "    </tr>\n",
       "    <tr>\n",
       "      <th>4</th>\n",
       "      <td>148</td>\n",
       "      <td>hdi</td>\n",
       "      <td>-0.14</td>\n",
       "    </tr>\n",
       "    <tr>\n",
       "      <th>...</th>\n",
       "      <td>...</td>\n",
       "      <td>...</td>\n",
       "      <td>...</td>\n",
       "    </tr>\n",
       "    <tr>\n",
       "      <th>1444</th>\n",
       "      <td>124</td>\n",
       "      <td>unemployment</td>\n",
       "      <td>0.00</td>\n",
       "    </tr>\n",
       "    <tr>\n",
       "      <th>1445</th>\n",
       "      <td>161</td>\n",
       "      <td>unemployment</td>\n",
       "      <td>0.00</td>\n",
       "    </tr>\n",
       "    <tr>\n",
       "      <th>1446</th>\n",
       "      <td>26</td>\n",
       "      <td>unemployment</td>\n",
       "      <td>1.00</td>\n",
       "    </tr>\n",
       "    <tr>\n",
       "      <th>1447</th>\n",
       "      <td>83</td>\n",
       "      <td>unemployment</td>\n",
       "      <td>0.00</td>\n",
       "    </tr>\n",
       "    <tr>\n",
       "      <th>1448</th>\n",
       "      <td>87</td>\n",
       "      <td>unemployment</td>\n",
       "      <td>0.00</td>\n",
       "    </tr>\n",
       "  </tbody>\n",
       "</table>\n",
       "<p>1449 rows × 3 columns</p>\n",
       "</div>"
      ],
      "text/plain": [
       "      country_id        factor  measure\n",
       "0            139           hdi     0.00\n",
       "1            193           hdi    -0.40\n",
       "2              0           hdi    -0.63\n",
       "3             96           hdi     0.34\n",
       "4            148           hdi    -0.14\n",
       "...          ...           ...      ...\n",
       "1444         124  unemployment     0.00\n",
       "1445         161  unemployment     0.00\n",
       "1446          26  unemployment     1.00\n",
       "1447          83  unemployment     0.00\n",
       "1448          87  unemployment     0.00\n",
       "\n",
       "[1449 rows x 3 columns]"
      ]
     },
     "execution_count": 4,
     "metadata": {},
     "output_type": "execute_result"
    }
   ],
   "source": [
    "data = data.drop(['level','factor_rank'],axis=1)\n",
    "data"
   ]
  },
  {
   "cell_type": "code",
   "execution_count": 6,
   "metadata": {},
   "outputs": [],
   "source": [
    "country_id = pd.DataFrame(data.country_id.unique(),columns=['country_id'])"
   ]
  },
  {
   "cell_type": "code",
   "execution_count": 7,
   "metadata": {},
   "outputs": [],
   "source": [
    "hdi = data[data['factor'] == 'hdi']\n",
    "hdi = hdi.drop(['factor'],axis=1).rename(columns={'measure':'hdi'})"
   ]
  },
  {
   "cell_type": "code",
   "execution_count": 8,
   "metadata": {},
   "outputs": [],
   "source": [
    "unemployment = data[data['factor'] == 'unemployment']\n",
    "unemployment = unemployment.drop(['factor'],axis = 1).rename(columns={'measure':'unemployment'})"
   ]
  },
  {
   "cell_type": "code",
   "execution_count": 9,
   "metadata": {},
   "outputs": [],
   "source": [
    "population = data[data['factor'] == 'population']\n",
    "population = population.drop(['factor'],axis = 1).rename(columns={'measure':'population'})"
   ]
  },
  {
   "cell_type": "code",
   "execution_count": 10,
   "metadata": {},
   "outputs": [],
   "source": [
    "gni = data[data['factor'] == 'gni']\n",
    "gni = gni.drop(['factor'],axis = 1).rename(columns={'measure':'gni'})"
   ]
  },
  {
   "cell_type": "code",
   "execution_count": 11,
   "metadata": {},
   "outputs": [],
   "source": [
    "gdp = data[data['factor'] == 'gdp']\n",
    "gdp = gdp.drop(['factor'],axis = 1).rename(columns={'measure':'gdp'})"
   ]
  },
  {
   "cell_type": "code",
   "execution_count": 12,
   "metadata": {},
   "outputs": [],
   "source": [
    "inflation = data[data['factor'] == 'inflation']\n",
    "inflation = inflation.drop(['factor'],axis = 1).rename(columns={'measure':'inflation'})"
   ]
  },
  {
   "cell_type": "code",
   "execution_count": 13,
   "metadata": {},
   "outputs": [],
   "source": [
    "infant_mortality = data[data['factor'] == 'infant_mortality']\n",
    "infant_mortality = infant_mortality.drop(['factor'],axis = 1).rename(columns={'measure':'infant_mortality'})"
   ]
  },
  {
   "cell_type": "code",
   "execution_count": 14,
   "metadata": {},
   "outputs": [],
   "source": [
    "Country_data = pd.merge(\n",
    "    country_id,hdi,on='country_id').merge(\n",
    "    unemployment,on='country_id').merge(\n",
    "    population,on='country_id').merge(\n",
    "    gdp,on='country_id').merge(\n",
    "    gni,on='country_id').merge(\n",
    "    inflation,on='country_id').merge(\n",
    "    infant_mortality,on='country_id')"
   ]
  },
  {
   "cell_type": "code",
   "execution_count": 15,
   "metadata": {},
   "outputs": [
    {
     "data": {
      "text/html": [
       "<div>\n",
       "<style scoped>\n",
       "    .dataframe tbody tr th:only-of-type {\n",
       "        vertical-align: middle;\n",
       "    }\n",
       "\n",
       "    .dataframe tbody tr th {\n",
       "        vertical-align: top;\n",
       "    }\n",
       "\n",
       "    .dataframe thead th {\n",
       "        text-align: right;\n",
       "    }\n",
       "</style>\n",
       "<table border=\"1\" class=\"dataframe\">\n",
       "  <thead>\n",
       "    <tr style=\"text-align: right;\">\n",
       "      <th></th>\n",
       "      <th>country_id</th>\n",
       "      <th>hdi</th>\n",
       "      <th>unemployment</th>\n",
       "      <th>population</th>\n",
       "      <th>gdp</th>\n",
       "      <th>gni</th>\n",
       "      <th>inflation</th>\n",
       "      <th>infant_mortality</th>\n",
       "    </tr>\n",
       "  </thead>\n",
       "  <tbody>\n",
       "    <tr>\n",
       "      <th>0</th>\n",
       "      <td>139</td>\n",
       "      <td>0.00</td>\n",
       "      <td>0.00</td>\n",
       "      <td>0.00</td>\n",
       "      <td>-0.00</td>\n",
       "      <td>0.00</td>\n",
       "      <td>0.00</td>\n",
       "      <td>-0.00</td>\n",
       "    </tr>\n",
       "    <tr>\n",
       "      <th>1</th>\n",
       "      <td>193</td>\n",
       "      <td>-0.40</td>\n",
       "      <td>-0.48</td>\n",
       "      <td>0.55</td>\n",
       "      <td>-0.31</td>\n",
       "      <td>-0.42</td>\n",
       "      <td>0.09</td>\n",
       "      <td>0.40</td>\n",
       "    </tr>\n",
       "    <tr>\n",
       "      <th>2</th>\n",
       "      <td>0</td>\n",
       "      <td>-0.63</td>\n",
       "      <td>-0.95</td>\n",
       "      <td>0.35</td>\n",
       "      <td>-0.09</td>\n",
       "      <td>-0.03</td>\n",
       "      <td>-0.40</td>\n",
       "      <td>0.08</td>\n",
       "    </tr>\n",
       "    <tr>\n",
       "      <th>3</th>\n",
       "      <td>96</td>\n",
       "      <td>0.34</td>\n",
       "      <td>0.48</td>\n",
       "      <td>0.68</td>\n",
       "      <td>0.03</td>\n",
       "      <td>0.12</td>\n",
       "      <td>0.00</td>\n",
       "      <td>0.25</td>\n",
       "    </tr>\n",
       "    <tr>\n",
       "      <th>4</th>\n",
       "      <td>148</td>\n",
       "      <td>-0.14</td>\n",
       "      <td>-0.92</td>\n",
       "      <td>-0.87</td>\n",
       "      <td>-0.14</td>\n",
       "      <td>-0.29</td>\n",
       "      <td>0.27</td>\n",
       "      <td>0.02</td>\n",
       "    </tr>\n",
       "  </tbody>\n",
       "</table>\n",
       "</div>"
      ],
      "text/plain": [
       "   country_id   hdi  unemployment  population   gdp   gni  inflation  \\\n",
       "0         139  0.00          0.00        0.00 -0.00  0.00       0.00   \n",
       "1         193 -0.40         -0.48        0.55 -0.31 -0.42       0.09   \n",
       "2           0 -0.63         -0.95        0.35 -0.09 -0.03      -0.40   \n",
       "3          96  0.34          0.48        0.68  0.03  0.12       0.00   \n",
       "4         148 -0.14         -0.92       -0.87 -0.14 -0.29       0.27   \n",
       "\n",
       "   infant_mortality  \n",
       "0             -0.00  \n",
       "1              0.40  \n",
       "2              0.08  \n",
       "3              0.25  \n",
       "4              0.02  "
      ]
     },
     "execution_count": 15,
     "metadata": {},
     "output_type": "execute_result"
    }
   ],
   "source": [
    "Country_data.head()"
   ]
  },
  {
   "cell_type": "code",
   "execution_count": 16,
   "metadata": {},
   "outputs": [
    {
     "data": {
      "image/png": "[encoded data removed]",
      "text/plain": [
       "<Figure size 864x576 with 1 Axes>"
      ]
     },
     "metadata": {},
     "output_type": "display_data"
    }
   ],
   "source": [
    "fig = plt.figure(figsize = (12,8))\n",
    "sns.boxplot(data=Country_data.drop(['country_id'],axis=1))\n",
    "plt.show()"
   ]
  },
  {
   "cell_type": "code",
   "execution_count": 17,
   "metadata": {},
   "outputs": [],
   "source": [
    "from sklearn.preprocessing import StandardScaler\n",
    "Country_data1=Country_data.drop('country_id',1) ## Droping string feature country name.\n",
    "standard_scaler = StandardScaler()\n",
    "Country_scaled = standard_scaler.fit_transform(Country_data1)"
   ]
  },
  {
   "cell_type": "code",
   "execution_count": 18,
   "metadata": {},
   "outputs": [
    {
     "data": {
      "text/plain": [
       "PCA(copy=True, iterated_power='auto', n_components=None, random_state=42,\n",
       "    svd_solver='randomized', tol=0.0, whiten=False)"
      ]
     },
     "execution_count": 18,
     "metadata": {},
     "output_type": "execute_result"
    }
   ],
   "source": [
    "pca = PCA(svd_solver='randomized', random_state=42)\n",
    "\n",
    "\n",
    "# fiting PCA on the dataset\n",
    "pca.fit(Country_scaled)"
   ]
  },
  {
   "cell_type": "code",
   "execution_count": 19,
   "metadata": {},
   "outputs": [
    {
     "data": {
      "text/plain": [
       "array([[ 0.44098836,  0.03501844,  0.31852312,  0.51342963,  0.49734563,\n",
       "         0.26942184, -0.34539139],\n",
       "       [ 0.32638769,  0.24714529,  0.35998411, -0.45289244, -0.50220722,\n",
       "         0.35465854, -0.34597021],\n",
       "       [ 0.02217984,  0.89857502, -0.11722255,  0.0876216 ,  0.06447486,\n",
       "        -0.40051225, -0.07800796],\n",
       "       [-0.0638769 ,  0.3388866 , -0.07391896,  0.12082038,  0.01751101,\n",
       "         0.68601399,  0.62457362],\n",
       "       [-0.22846149,  0.02232277,  0.86110926,  0.05137748, -0.00660117,\n",
       "        -0.27410135,  0.35774727],\n",
       "       [-0.80126628,  0.11229689,  0.07983687,  0.06354637,  0.08394267,\n",
       "         0.30590394, -0.48407241],\n",
       "       [-0.01434702, -0.04798764, -0.04319997,  0.70874929, -0.69920072,\n",
       "        -0.04353356, -0.05022689]])"
      ]
     },
     "execution_count": 19,
     "metadata": {},
     "output_type": "execute_result"
    }
   ],
   "source": [
    "pca.components_"
   ]
  },
  {
   "cell_type": "code",
   "execution_count": 20,
   "metadata": {},
   "outputs": [
    {
     "data": {
      "text/plain": [
       "array([0.35504521, 0.17633391, 0.14470656, 0.11975517, 0.10899617,\n",
       "       0.07596837, 0.01919462])"
      ]
     },
     "execution_count": 20,
     "metadata": {},
     "output_type": "execute_result"
    }
   ],
   "source": [
    "pca.explained_variance_ratio_"
   ]
  },
  {
   "cell_type": "code",
   "execution_count": 21,
   "metadata": {},
   "outputs": [
    {
     "data": {
      "image/png": "[encoded data removed]",
      "text/plain": [
       "<Figure size 864x576 with 1 Axes>"
      ]
     },
     "metadata": {
      "needs_background": "light"
     },
     "output_type": "display_data"
    }
   ],
   "source": [
    "%matplotlib inline\n",
    "fig = plt.figure(figsize = (12,8))\n",
    "plt.plot(np.cumsum(pca.explained_variance_ratio_))\n",
    "plt.xlabel('number of components')\n",
    "plt.ylabel('cumulative explained variance')\n",
    "plt.show()"
   ]
  },
  {
   "cell_type": "code",
   "execution_count": 22,
   "metadata": {},
   "outputs": [
    {
     "data": {
      "text/html": [
       "<div>\n",
       "<style scoped>\n",
       "    .dataframe tbody tr th:only-of-type {\n",
       "        vertical-align: middle;\n",
       "    }\n",
       "\n",
       "    .dataframe tbody tr th {\n",
       "        vertical-align: top;\n",
       "    }\n",
       "\n",
       "    .dataframe thead th {\n",
       "        text-align: right;\n",
       "    }\n",
       "</style>\n",
       "<table border=\"1\" class=\"dataframe\">\n",
       "  <thead>\n",
       "    <tr style=\"text-align: right;\">\n",
       "      <th></th>\n",
       "      <th>Feature</th>\n",
       "      <th>PC1</th>\n",
       "      <th>PC2</th>\n",
       "      <th>PC3</th>\n",
       "      <th>PC4</th>\n",
       "      <th>PC5</th>\n",
       "    </tr>\n",
       "  </thead>\n",
       "  <tbody>\n",
       "    <tr>\n",
       "      <th>0</th>\n",
       "      <td>hdi</td>\n",
       "      <td>0.440988</td>\n",
       "      <td>0.326388</td>\n",
       "      <td>0.022180</td>\n",
       "      <td>-0.063877</td>\n",
       "      <td>-0.228461</td>\n",
       "    </tr>\n",
       "    <tr>\n",
       "      <th>1</th>\n",
       "      <td>unemployment</td>\n",
       "      <td>0.035018</td>\n",
       "      <td>0.247145</td>\n",
       "      <td>0.898575</td>\n",
       "      <td>0.338887</td>\n",
       "      <td>0.022323</td>\n",
       "    </tr>\n",
       "    <tr>\n",
       "      <th>2</th>\n",
       "      <td>population</td>\n",
       "      <td>0.318523</td>\n",
       "      <td>0.359984</td>\n",
       "      <td>-0.117223</td>\n",
       "      <td>-0.073919</td>\n",
       "      <td>0.861109</td>\n",
       "    </tr>\n",
       "    <tr>\n",
       "      <th>3</th>\n",
       "      <td>gdp</td>\n",
       "      <td>0.513430</td>\n",
       "      <td>-0.452892</td>\n",
       "      <td>0.087622</td>\n",
       "      <td>0.120820</td>\n",
       "      <td>0.051377</td>\n",
       "    </tr>\n",
       "    <tr>\n",
       "      <th>4</th>\n",
       "      <td>gni</td>\n",
       "      <td>0.497346</td>\n",
       "      <td>-0.502207</td>\n",
       "      <td>0.064475</td>\n",
       "      <td>0.017511</td>\n",
       "      <td>-0.006601</td>\n",
       "    </tr>\n",
       "    <tr>\n",
       "      <th>5</th>\n",
       "      <td>inflation</td>\n",
       "      <td>0.269422</td>\n",
       "      <td>0.354659</td>\n",
       "      <td>-0.400512</td>\n",
       "      <td>0.686014</td>\n",
       "      <td>-0.274101</td>\n",
       "    </tr>\n",
       "    <tr>\n",
       "      <th>6</th>\n",
       "      <td>infant_mortality</td>\n",
       "      <td>-0.345391</td>\n",
       "      <td>-0.345970</td>\n",
       "      <td>-0.078008</td>\n",
       "      <td>0.624574</td>\n",
       "      <td>0.357747</td>\n",
       "    </tr>\n",
       "  </tbody>\n",
       "</table>\n",
       "</div>"
      ],
      "text/plain": [
       "            Feature       PC1       PC2       PC3       PC4       PC5\n",
       "0               hdi  0.440988  0.326388  0.022180 -0.063877 -0.228461\n",
       "1      unemployment  0.035018  0.247145  0.898575  0.338887  0.022323\n",
       "2        population  0.318523  0.359984 -0.117223 -0.073919  0.861109\n",
       "3               gdp  0.513430 -0.452892  0.087622  0.120820  0.051377\n",
       "4               gni  0.497346 -0.502207  0.064475  0.017511 -0.006601\n",
       "5         inflation  0.269422  0.354659 -0.400512  0.686014 -0.274101\n",
       "6  infant_mortality -0.345391 -0.345970 -0.078008  0.624574  0.357747"
      ]
     },
     "execution_count": 22,
     "metadata": {},
     "output_type": "execute_result"
    }
   ],
   "source": [
    "colnames = list(Country_data1.columns)\n",
    "pcs_df = pd.DataFrame({ 'Feature':colnames,'PC1':pca.components_[0],'PC2':pca.components_[1],'PC3':pca.components_[2],\n",
    "                      'PC4':pca.components_[3],'PC5':pca.components_[4]})\n",
    "pcs_df"
   ]
  },
  {
   "cell_type": "code",
   "execution_count": 23,
   "metadata": {},
   "outputs": [
    {
     "data": {
      "image/png": "[encoded data removed]",
      "text/plain": [
       "<Figure size 576x576 with 1 Axes>"
      ]
     },
     "metadata": {
      "needs_background": "light"
     },
     "output_type": "display_data"
    }
   ],
   "source": [
    "%matplotlib inline\n",
    "fig = plt.figure(figsize = (8,8))\n",
    "plt.scatter(pcs_df.PC1, pcs_df.PC2)\n",
    "plt.xlabel('Principal Component 1')\n",
    "plt.ylabel('Principal Component 2')\n",
    "for i, txt in enumerate(pcs_df.Feature):\n",
    "    plt.annotate(txt, (pcs_df.PC1[i],pcs_df.PC2[i]))\n",
    "plt.tight_layout()\n",
    "plt.show()"
   ]
  },
  {
   "cell_type": "code",
   "execution_count": 24,
   "metadata": {},
   "outputs": [
    {
     "data": {
      "text/plain": [
       "(207, 5)"
      ]
     },
     "execution_count": 24,
     "metadata": {},
     "output_type": "execute_result"
    }
   ],
   "source": [
    "from sklearn.decomposition import IncrementalPCA\n",
    "pca_final = IncrementalPCA(n_components=5)\n",
    "df_pca = pca_final.fit_transform(Country_scaled)\n",
    "df_pca.shape"
   ]
  },
  {
   "cell_type": "code",
   "execution_count": 25,
   "metadata": {},
   "outputs": [],
   "source": [
    "pc = np.transpose(df_pca)"
   ]
  },
  {
   "cell_type": "code",
   "execution_count": 26,
   "metadata": {},
   "outputs": [],
   "source": [
    "corrmat = np.corrcoef(pc)"
   ]
  },
  {
   "cell_type": "code",
   "execution_count": 27,
   "metadata": {},
   "outputs": [
    {
     "data": {
      "image/png": "[encoded data removed]",
      "text/plain": [
       "<Figure size 1440x720 with 2 Axes>"
      ]
     },
     "metadata": {
      "needs_background": "light"
     },
     "output_type": "display_data"
    }
   ],
   "source": [
    "%matplotlib inline\n",
    "plt.figure(figsize = (20,10))\n",
    "sns.heatmap(corrmat,annot = True)\n",
    "plt.show()"
   ]
  },
  {
   "cell_type": "code",
   "execution_count": 28,
   "metadata": {},
   "outputs": [],
   "source": [
    "pcs_df2 = pd.DataFrame({'PC1':pc[0],'PC2':pc[1],'PC3':pc[2],'PC4':pc[3],'PC5':pc[4]})"
   ]
  },
  {
   "cell_type": "code",
   "execution_count": 29,
   "metadata": {},
   "outputs": [
    {
     "data": {
      "image/png": "[encoded data removed]",
      "text/plain": [
       "<Figure size 864x576 with 1 Axes>"
      ]
     },
     "metadata": {
      "needs_background": "light"
     },
     "output_type": "display_data"
    }
   ],
   "source": [
    "fig = plt.figure(figsize = (12,8))\n",
    "sns.boxplot(data=pcs_df2)\n",
    "plt.show()"
   ]
  },
  {
   "cell_type": "code",
   "execution_count": 30,
   "metadata": {},
   "outputs": [
    {
     "data": {
      "text/html": [
       "<div>\n",
       "<style scoped>\n",
       "    .dataframe tbody tr th:only-of-type {\n",
       "        vertical-align: middle;\n",
       "    }\n",
       "\n",
       "    .dataframe tbody tr th {\n",
       "        vertical-align: top;\n",
       "    }\n",
       "\n",
       "    .dataframe thead th {\n",
       "        text-align: right;\n",
       "    }\n",
       "</style>\n",
       "<table border=\"1\" class=\"dataframe\">\n",
       "  <thead>\n",
       "    <tr style=\"text-align: right;\">\n",
       "      <th></th>\n",
       "      <th>PC1</th>\n",
       "      <th>PC2</th>\n",
       "      <th>PC3</th>\n",
       "      <th>PC4</th>\n",
       "      <th>PC5</th>\n",
       "    </tr>\n",
       "  </thead>\n",
       "  <tbody>\n",
       "    <tr>\n",
       "      <th>0</th>\n",
       "      <td>0.272965</td>\n",
       "      <td>0.013841</td>\n",
       "      <td>0.069570</td>\n",
       "      <td>-0.185358</td>\n",
       "      <td>0.018562</td>\n",
       "    </tr>\n",
       "    <tr>\n",
       "      <th>1</th>\n",
       "      <td>-2.187540</td>\n",
       "      <td>-1.215754</td>\n",
       "      <td>-1.383269</td>\n",
       "      <td>1.090716</td>\n",
       "      <td>0.004761</td>\n",
       "    </tr>\n",
       "    <tr>\n",
       "      <th>2</th>\n",
       "      <td>-1.232320</td>\n",
       "      <td>1.022464</td>\n",
       "      <td>-1.700251</td>\n",
       "      <td>0.288137</td>\n",
       "      <td>0.272923</td>\n",
       "    </tr>\n",
       "    <tr>\n",
       "      <th>3</th>\n",
       "      <td>1.471386</td>\n",
       "      <td>-0.545299</td>\n",
       "      <td>0.706724</td>\n",
       "      <td>0.810832</td>\n",
       "      <td>-1.198980</td>\n",
       "    </tr>\n",
       "    <tr>\n",
       "      <th>4</th>\n",
       "      <td>-1.490795</td>\n",
       "      <td>-0.042130</td>\n",
       "      <td>-1.367204</td>\n",
       "      <td>-1.257467</td>\n",
       "      <td>0.966261</td>\n",
       "    </tr>\n",
       "  </tbody>\n",
       "</table>\n",
       "</div>"
      ],
      "text/plain": [
       "        PC1       PC2       PC3       PC4       PC5\n",
       "0  0.272965  0.013841  0.069570 -0.185358  0.018562\n",
       "1 -2.187540 -1.215754 -1.383269  1.090716  0.004761\n",
       "2 -1.232320  1.022464 -1.700251  0.288137  0.272923\n",
       "3  1.471386 -0.545299  0.706724  0.810832 -1.198980\n",
       "4 -1.490795 -0.042130 -1.367204 -1.257467  0.966261"
      ]
     },
     "execution_count": 30,
     "metadata": {},
     "output_type": "execute_result"
    }
   ],
   "source": [
    "pcs_df2.head()"
   ]
  },
  {
   "cell_type": "code",
   "execution_count": 31,
   "metadata": {},
   "outputs": [
    {
     "data": {
      "image/png": "[encoded data removed]",
      "text/plain": [
       "<Figure size 864x576 with 1 Axes>"
      ]
     },
     "metadata": {
      "needs_background": "light"
     },
     "output_type": "display_data"
    }
   ],
   "source": [
    "fig = plt.figure(figsize = (12,8))\n",
    "sns.scatterplot(x='PC1',y='PC2',data=pcs_df2)\n",
    "plt.show()"
   ]
  },
  {
   "cell_type": "code",
   "execution_count": 32,
   "metadata": {},
   "outputs": [],
   "source": [
    "from sklearn.neighbors import NearestNeighbors\n",
    "from random import sample\n",
    "from numpy.random import uniform\n",
    "import numpy as np\n",
    "from math import isnan\n",
    " \n",
    "def hopkins(X):\n",
    "    d = X.shape[1]\n",
    "    #d = len(vars) # columns\n",
    "    n = len(X) # rows\n",
    "    m = int(0.1 * n) \n",
    "    nbrs = NearestNeighbors(n_neighbors=1).fit(X.values)\n",
    " \n",
    "    rand_X = sample(range(0, n, 1), m)\n",
    " \n",
    "    ujd = []\n",
    "    wjd = []\n",
    "    for j in range(0, m):\n",
    "        u_dist, _ = nbrs.kneighbors(uniform(np.amin(X,axis=0),np.amax(X,axis=0),d).reshape(1, -1), 2, return_distance=True)\n",
    "        ujd.append(u_dist[0][1])\n",
    "        w_dist, _ = nbrs.kneighbors(X.iloc[rand_X[j]].values.reshape(1, -1), 2, return_distance=True)\n",
    "        wjd.append(w_dist[0][1])\n",
    " \n",
    "    H = sum(ujd) / (sum(ujd) + sum(wjd))\n",
    "    if isnan(H):\n",
    "        print(ujd, wjd)\n",
    "        H = 0\n",
    " \n",
    "    return H"
   ]
  },
  {
   "cell_type": "code",
   "execution_count": 33,
   "metadata": {},
   "outputs": [
    {
     "data": {
      "text/plain": [
       "0.758837816340812"
      ]
     },
     "execution_count": 33,
     "metadata": {},
     "output_type": "execute_result"
    }
   ],
   "source": [
    "hopkins(pcs_df2)"
   ]
  },
  {
   "cell_type": "markdown",
   "metadata": {},
   "source": [
    "Since the value is > 0.5 the given dataset has a good tendency to form clusters."
   ]
  },
  {
   "cell_type": "code",
   "execution_count": 34,
   "metadata": {},
   "outputs": [
    {
     "data": {
      "text/plain": [
       "[[2, 0.2631778236539813],\n",
       " [3, 0.19524559562327207],\n",
       " [4, 0.2065311298691861],\n",
       " [5, 0.20071052780620033],\n",
       " [6, 0.21157001438268283],\n",
       " [7, 0.2136934551409867],\n",
       " [8, 0.22468701106703426],\n",
       " [9, 0.21253382044578722]]"
      ]
     },
     "execution_count": 34,
     "metadata": {},
     "output_type": "execute_result"
    }
   ],
   "source": [
    "from sklearn.metrics import silhouette_score\n",
    "dat3_1 = pcs_df2\n",
    "sse_ = []\n",
    "for k in range(2, 10):\n",
    "    kmeans = KMeans(n_clusters=k).fit(dat3_1)\n",
    "    sse_.append([k, silhouette_score(dat3_1, kmeans.labels_)])\n",
    "    \n",
    "sse_"
   ]
  },
  {
   "cell_type": "code",
   "execution_count": 35,
   "metadata": {},
   "outputs": [
    {
     "data": {
      "image/png": "[encoded data removed]",
      "text/plain": [
       "<Figure size 432x288 with 1 Axes>"
      ]
     },
     "metadata": {
      "needs_background": "light"
     },
     "output_type": "display_data"
    }
   ],
   "source": [
    "plt.plot(pd.DataFrame(sse_)[0], pd.DataFrame(sse_)[1])\n",
    "plt.show()"
   ]
  },
  {
   "cell_type": "code",
   "execution_count": 36,
   "metadata": {},
   "outputs": [
    {
     "data": {
      "text/plain": [
       "[1272.9067007590652,\n",
       " 947.2434414013017,\n",
       " 825.0172268256299,\n",
       " 732.0128893851424,\n",
       " 669.5476914194506,\n",
       " 615.4948381929852,\n",
       " 576.7542355796427,\n",
       " 550.5609974490849,\n",
       " 515.3520741397083]"
      ]
     },
     "execution_count": 36,
     "metadata": {},
     "output_type": "execute_result"
    }
   ],
   "source": [
    "ssd = []\n",
    "for num_clusters in list(range(1,10)):\n",
    "    model_clus = KMeans(n_clusters = num_clusters, max_iter=50)\n",
    "    model_clus.fit(dat3_1)\n",
    "    ssd.append(model_clus.inertia_)\n",
    "ssd"
   ]
  },
  {
   "cell_type": "code",
   "execution_count": 37,
   "metadata": {},
   "outputs": [
    {
     "data": {
      "image/png": "[encoded data removed]",
      "text/plain": [
       "<Figure size 432x288 with 1 Axes>"
      ]
     },
     "metadata": {
      "needs_background": "light"
     },
     "output_type": "display_data"
    }
   ],
   "source": [
    "plt.plot(ssd)\n",
    "plt.show()"
   ]
  },
  {
   "cell_type": "code",
   "execution_count": 38,
   "metadata": {},
   "outputs": [
    {
     "data": {
      "text/plain": [
       "[1272.9067007590652,\n",
       " 947.2434414013017,\n",
       " 825.0172268256299,\n",
       " 732.0128893851424,\n",
       " 669.5476914194506,\n",
       " 615.4948381929852,\n",
       " 576.7542355796427,\n",
       " 550.5609974490849,\n",
       " 515.3520741397083]"
      ]
     },
     "execution_count": 38,
     "metadata": {},
     "output_type": "execute_result"
    }
   ],
   "source": [
    "ssd"
   ]
  },
  {
   "cell_type": "code",
   "execution_count": 39,
   "metadata": {},
   "outputs": [
    {
     "data": {
      "text/plain": [
       "KMeans(algorithm='auto', copy_x=True, init='k-means++', max_iter=50,\n",
       "       n_clusters=4, n_init=10, n_jobs=None, precompute_distances='auto',\n",
       "       random_state=50, tol=0.0001, verbose=0)"
      ]
     },
     "execution_count": 39,
     "metadata": {},
     "output_type": "execute_result"
    }
   ],
   "source": [
    "model_clus2 = KMeans(n_clusters = 4, max_iter=50,random_state = 50)\n",
    "model_clus2.fit(dat3_1)"
   ]
  },
  {
   "cell_type": "code",
   "execution_count": 40,
   "metadata": {},
   "outputs": [
    {
     "data": {
      "text/html": [
       "<div>\n",
       "<style scoped>\n",
       "    .dataframe tbody tr th:only-of-type {\n",
       "        vertical-align: middle;\n",
       "    }\n",
       "\n",
       "    .dataframe tbody tr th {\n",
       "        vertical-align: top;\n",
       "    }\n",
       "\n",
       "    .dataframe thead th {\n",
       "        text-align: right;\n",
       "    }\n",
       "</style>\n",
       "<table border=\"1\" class=\"dataframe\">\n",
       "  <thead>\n",
       "    <tr style=\"text-align: right;\">\n",
       "      <th></th>\n",
       "      <th>PC1</th>\n",
       "      <th>PC2</th>\n",
       "      <th>PC3</th>\n",
       "      <th>PC4</th>\n",
       "      <th>PC5</th>\n",
       "      <th>ClusterID</th>\n",
       "    </tr>\n",
       "  </thead>\n",
       "  <tbody>\n",
       "    <tr>\n",
       "      <th>0</th>\n",
       "      <td>0.272965</td>\n",
       "      <td>0.013841</td>\n",
       "      <td>0.069570</td>\n",
       "      <td>-0.185358</td>\n",
       "      <td>0.018562</td>\n",
       "      <td>2</td>\n",
       "    </tr>\n",
       "    <tr>\n",
       "      <th>1</th>\n",
       "      <td>-2.187540</td>\n",
       "      <td>-1.215754</td>\n",
       "      <td>-1.383269</td>\n",
       "      <td>1.090716</td>\n",
       "      <td>0.004761</td>\n",
       "      <td>0</td>\n",
       "    </tr>\n",
       "    <tr>\n",
       "      <th>2</th>\n",
       "      <td>-1.232320</td>\n",
       "      <td>1.022464</td>\n",
       "      <td>-1.700251</td>\n",
       "      <td>0.288137</td>\n",
       "      <td>0.272923</td>\n",
       "      <td>0</td>\n",
       "    </tr>\n",
       "    <tr>\n",
       "      <th>3</th>\n",
       "      <td>1.471386</td>\n",
       "      <td>-0.545299</td>\n",
       "      <td>0.706724</td>\n",
       "      <td>0.810832</td>\n",
       "      <td>-1.198980</td>\n",
       "      <td>1</td>\n",
       "    </tr>\n",
       "    <tr>\n",
       "      <th>4</th>\n",
       "      <td>-1.490795</td>\n",
       "      <td>-0.042130</td>\n",
       "      <td>-1.367204</td>\n",
       "      <td>-1.257467</td>\n",
       "      <td>0.966261</td>\n",
       "      <td>0</td>\n",
       "    </tr>\n",
       "    <tr>\n",
       "      <th>...</th>\n",
       "      <td>...</td>\n",
       "      <td>...</td>\n",
       "      <td>...</td>\n",
       "      <td>...</td>\n",
       "      <td>...</td>\n",
       "      <td>...</td>\n",
       "    </tr>\n",
       "    <tr>\n",
       "      <th>202</th>\n",
       "      <td>0.272965</td>\n",
       "      <td>0.013841</td>\n",
       "      <td>0.069570</td>\n",
       "      <td>-0.185358</td>\n",
       "      <td>0.018562</td>\n",
       "      <td>2</td>\n",
       "    </tr>\n",
       "    <tr>\n",
       "      <th>203</th>\n",
       "      <td>0.272965</td>\n",
       "      <td>0.013841</td>\n",
       "      <td>0.069570</td>\n",
       "      <td>-0.185358</td>\n",
       "      <td>0.018562</td>\n",
       "      <td>2</td>\n",
       "    </tr>\n",
       "    <tr>\n",
       "      <th>204</th>\n",
       "      <td>0.910879</td>\n",
       "      <td>-1.180220</td>\n",
       "      <td>1.275550</td>\n",
       "      <td>0.853103</td>\n",
       "      <td>1.611130</td>\n",
       "      <td>2</td>\n",
       "    </tr>\n",
       "    <tr>\n",
       "      <th>205</th>\n",
       "      <td>-0.306170</td>\n",
       "      <td>0.787567</td>\n",
       "      <td>0.519327</td>\n",
       "      <td>-0.869260</td>\n",
       "      <td>-1.384673</td>\n",
       "      <td>3</td>\n",
       "    </tr>\n",
       "    <tr>\n",
       "      <th>206</th>\n",
       "      <td>0.272965</td>\n",
       "      <td>0.013841</td>\n",
       "      <td>0.069570</td>\n",
       "      <td>-0.185358</td>\n",
       "      <td>0.018562</td>\n",
       "      <td>2</td>\n",
       "    </tr>\n",
       "  </tbody>\n",
       "</table>\n",
       "<p>207 rows × 6 columns</p>\n",
       "</div>"
      ],
      "text/plain": [
       "          PC1       PC2       PC3       PC4       PC5  ClusterID\n",
       "0    0.272965  0.013841  0.069570 -0.185358  0.018562          2\n",
       "1   -2.187540 -1.215754 -1.383269  1.090716  0.004761          0\n",
       "2   -1.232320  1.022464 -1.700251  0.288137  0.272923          0\n",
       "3    1.471386 -0.545299  0.706724  0.810832 -1.198980          1\n",
       "4   -1.490795 -0.042130 -1.367204 -1.257467  0.966261          0\n",
       "..        ...       ...       ...       ...       ...        ...\n",
       "202  0.272965  0.013841  0.069570 -0.185358  0.018562          2\n",
       "203  0.272965  0.013841  0.069570 -0.185358  0.018562          2\n",
       "204  0.910879 -1.180220  1.275550  0.853103  1.611130          2\n",
       "205 -0.306170  0.787567  0.519327 -0.869260 -1.384673          3\n",
       "206  0.272965  0.013841  0.069570 -0.185358  0.018562          2\n",
       "\n",
       "[207 rows x 6 columns]"
      ]
     },
     "execution_count": 40,
     "metadata": {},
     "output_type": "execute_result"
    }
   ],
   "source": [
    "dat4=pcs_df2\n",
    "dat4.index = pd.RangeIndex(len(dat4.index))\n",
    "dat_km = pd.concat([dat4, pd.Series(model_clus2.labels_)], axis=1)\n",
    "dat_km.columns = ['PC1', 'PC2','PC3','PC4','PC5','ClusterID']\n",
    "dat_km"
   ]
  },
  {
   "cell_type": "code",
   "execution_count": 41,
   "metadata": {},
   "outputs": [
    {
     "data": {
      "text/plain": [
       "2    86\n",
       "0    54\n",
       "3    42\n",
       "1    25\n",
       "Name: ClusterID, dtype: int64"
      ]
     },
     "execution_count": 41,
     "metadata": {},
     "output_type": "execute_result"
    }
   ],
   "source": [
    "dat_km['ClusterID'].value_counts()"
   ]
  },
  {
   "cell_type": "code",
   "execution_count": 42,
   "metadata": {},
   "outputs": [
    {
     "data": {
      "image/png": "[encoded data removed]",
      "text/plain": [
       "<Figure size 864x576 with 1 Axes>"
      ]
     },
     "metadata": {
      "needs_background": "light"
     },
     "output_type": "display_data"
    }
   ],
   "source": [
    "fig = plt.figure(figsize = (12,8))\n",
    "sns.scatterplot(x='PC1',y='PC2',hue='ClusterID',legend='full',data=dat_km)\n",
    "\n",
    "plt.title('Categories of countries on the basis of Components')\n",
    "plt.show()"
   ]
  },
  {
   "cell_type": "code",
   "execution_count": 43,
   "metadata": {},
   "outputs": [
    {
     "data": {
      "text/html": [
       "<div>\n",
       "<style scoped>\n",
       "    .dataframe tbody tr th:only-of-type {\n",
       "        vertical-align: middle;\n",
       "    }\n",
       "\n",
       "    .dataframe tbody tr th {\n",
       "        vertical-align: top;\n",
       "    }\n",
       "\n",
       "    .dataframe thead th {\n",
       "        text-align: right;\n",
       "    }\n",
       "</style>\n",
       "<table border=\"1\" class=\"dataframe\">\n",
       "  <thead>\n",
       "    <tr style=\"text-align: right;\">\n",
       "      <th></th>\n",
       "      <th>country_id</th>\n",
       "      <th>hdi</th>\n",
       "      <th>unemployment</th>\n",
       "      <th>population</th>\n",
       "      <th>gdp</th>\n",
       "      <th>gni</th>\n",
       "      <th>inflation</th>\n",
       "      <th>infant_mortality</th>\n",
       "      <th>PC1</th>\n",
       "      <th>PC2</th>\n",
       "      <th>PC3</th>\n",
       "      <th>PC4</th>\n",
       "      <th>PC5</th>\n",
       "      <th>ClusterID</th>\n",
       "    </tr>\n",
       "  </thead>\n",
       "  <tbody>\n",
       "    <tr>\n",
       "      <th>0</th>\n",
       "      <td>139</td>\n",
       "      <td>0.00</td>\n",
       "      <td>0.00</td>\n",
       "      <td>0.00</td>\n",
       "      <td>-0.00</td>\n",
       "      <td>0.00</td>\n",
       "      <td>0.00</td>\n",
       "      <td>-0.00</td>\n",
       "      <td>0.272965</td>\n",
       "      <td>0.013841</td>\n",
       "      <td>0.069570</td>\n",
       "      <td>-0.185358</td>\n",
       "      <td>0.018562</td>\n",
       "      <td>2</td>\n",
       "    </tr>\n",
       "    <tr>\n",
       "      <th>1</th>\n",
       "      <td>193</td>\n",
       "      <td>-0.40</td>\n",
       "      <td>-0.48</td>\n",
       "      <td>0.55</td>\n",
       "      <td>-0.31</td>\n",
       "      <td>-0.42</td>\n",
       "      <td>0.09</td>\n",
       "      <td>0.40</td>\n",
       "      <td>-2.187540</td>\n",
       "      <td>-1.215754</td>\n",
       "      <td>-1.383269</td>\n",
       "      <td>1.090716</td>\n",
       "      <td>0.004761</td>\n",
       "      <td>0</td>\n",
       "    </tr>\n",
       "    <tr>\n",
       "      <th>2</th>\n",
       "      <td>0</td>\n",
       "      <td>-0.63</td>\n",
       "      <td>-0.95</td>\n",
       "      <td>0.35</td>\n",
       "      <td>-0.09</td>\n",
       "      <td>-0.03</td>\n",
       "      <td>-0.40</td>\n",
       "      <td>0.08</td>\n",
       "      <td>-1.232320</td>\n",
       "      <td>1.022464</td>\n",
       "      <td>-1.700251</td>\n",
       "      <td>0.288137</td>\n",
       "      <td>0.272923</td>\n",
       "      <td>0</td>\n",
       "    </tr>\n",
       "    <tr>\n",
       "      <th>3</th>\n",
       "      <td>96</td>\n",
       "      <td>0.34</td>\n",
       "      <td>0.48</td>\n",
       "      <td>0.68</td>\n",
       "      <td>0.03</td>\n",
       "      <td>0.12</td>\n",
       "      <td>0.00</td>\n",
       "      <td>0.25</td>\n",
       "      <td>1.471386</td>\n",
       "      <td>-0.545299</td>\n",
       "      <td>0.706724</td>\n",
       "      <td>0.810832</td>\n",
       "      <td>-1.198980</td>\n",
       "      <td>1</td>\n",
       "    </tr>\n",
       "    <tr>\n",
       "      <th>4</th>\n",
       "      <td>148</td>\n",
       "      <td>-0.14</td>\n",
       "      <td>-0.92</td>\n",
       "      <td>-0.87</td>\n",
       "      <td>-0.14</td>\n",
       "      <td>-0.29</td>\n",
       "      <td>0.27</td>\n",
       "      <td>0.02</td>\n",
       "      <td>-1.490795</td>\n",
       "      <td>-0.042130</td>\n",
       "      <td>-1.367204</td>\n",
       "      <td>-1.257467</td>\n",
       "      <td>0.966261</td>\n",
       "      <td>0</td>\n",
       "    </tr>\n",
       "  </tbody>\n",
       "</table>\n",
       "</div>"
      ],
      "text/plain": [
       "   country_id   hdi  unemployment  population   gdp   gni  inflation  \\\n",
       "0         139  0.00          0.00        0.00 -0.00  0.00       0.00   \n",
       "1         193 -0.40         -0.48        0.55 -0.31 -0.42       0.09   \n",
       "2           0 -0.63         -0.95        0.35 -0.09 -0.03      -0.40   \n",
       "3          96  0.34          0.48        0.68  0.03  0.12       0.00   \n",
       "4         148 -0.14         -0.92       -0.87 -0.14 -0.29       0.27   \n",
       "\n",
       "   infant_mortality       PC1       PC2       PC3       PC4       PC5  \\\n",
       "0             -0.00  0.272965  0.013841  0.069570 -0.185358  0.018562   \n",
       "1              0.40 -2.187540 -1.215754 -1.383269  1.090716  0.004761   \n",
       "2              0.08 -1.232320  1.022464 -1.700251  0.288137  0.272923   \n",
       "3              0.25  1.471386 -0.545299  0.706724  0.810832 -1.198980   \n",
       "4              0.02 -1.490795 -0.042130 -1.367204 -1.257467  0.966261   \n",
       "\n",
       "   ClusterID  \n",
       "0          2  \n",
       "1          0  \n",
       "2          0  \n",
       "3          1  \n",
       "4          0  "
      ]
     },
     "execution_count": 43,
     "metadata": {},
     "output_type": "execute_result"
    }
   ],
   "source": [
    "dat5=pd.merge(Country_data,dat_km, left_index=True,right_index=True)\n",
    "dat5.head()"
   ]
  },
  {
   "cell_type": "code",
   "execution_count": 44,
   "metadata": {},
   "outputs": [
    {
     "data": {
      "text/html": [
       "<div>\n",
       "<style scoped>\n",
       "    .dataframe tbody tr th:only-of-type {\n",
       "        vertical-align: middle;\n",
       "    }\n",
       "\n",
       "    .dataframe tbody tr th {\n",
       "        vertical-align: top;\n",
       "    }\n",
       "\n",
       "    .dataframe thead th {\n",
       "        text-align: right;\n",
       "    }\n",
       "</style>\n",
       "<table border=\"1\" class=\"dataframe\">\n",
       "  <thead>\n",
       "    <tr style=\"text-align: right;\">\n",
       "      <th></th>\n",
       "      <th>country_id</th>\n",
       "      <th>hdi</th>\n",
       "      <th>unemployment</th>\n",
       "      <th>population</th>\n",
       "      <th>gdp</th>\n",
       "      <th>gni</th>\n",
       "      <th>inflation</th>\n",
       "      <th>infant_mortality</th>\n",
       "      <th>ClusterID</th>\n",
       "    </tr>\n",
       "  </thead>\n",
       "  <tbody>\n",
       "    <tr>\n",
       "      <th>0</th>\n",
       "      <td>139</td>\n",
       "      <td>0.00</td>\n",
       "      <td>0.00</td>\n",
       "      <td>0.00</td>\n",
       "      <td>-0.00</td>\n",
       "      <td>0.00</td>\n",
       "      <td>0.00</td>\n",
       "      <td>-0.00</td>\n",
       "      <td>2</td>\n",
       "    </tr>\n",
       "    <tr>\n",
       "      <th>1</th>\n",
       "      <td>193</td>\n",
       "      <td>-0.40</td>\n",
       "      <td>-0.48</td>\n",
       "      <td>0.55</td>\n",
       "      <td>-0.31</td>\n",
       "      <td>-0.42</td>\n",
       "      <td>0.09</td>\n",
       "      <td>0.40</td>\n",
       "      <td>0</td>\n",
       "    </tr>\n",
       "    <tr>\n",
       "      <th>2</th>\n",
       "      <td>0</td>\n",
       "      <td>-0.63</td>\n",
       "      <td>-0.95</td>\n",
       "      <td>0.35</td>\n",
       "      <td>-0.09</td>\n",
       "      <td>-0.03</td>\n",
       "      <td>-0.40</td>\n",
       "      <td>0.08</td>\n",
       "      <td>0</td>\n",
       "    </tr>\n",
       "    <tr>\n",
       "      <th>3</th>\n",
       "      <td>96</td>\n",
       "      <td>0.34</td>\n",
       "      <td>0.48</td>\n",
       "      <td>0.68</td>\n",
       "      <td>0.03</td>\n",
       "      <td>0.12</td>\n",
       "      <td>0.00</td>\n",
       "      <td>0.25</td>\n",
       "      <td>1</td>\n",
       "    </tr>\n",
       "    <tr>\n",
       "      <th>4</th>\n",
       "      <td>148</td>\n",
       "      <td>-0.14</td>\n",
       "      <td>-0.92</td>\n",
       "      <td>-0.87</td>\n",
       "      <td>-0.14</td>\n",
       "      <td>-0.29</td>\n",
       "      <td>0.27</td>\n",
       "      <td>0.02</td>\n",
       "      <td>0</td>\n",
       "    </tr>\n",
       "  </tbody>\n",
       "</table>\n",
       "</div>"
      ],
      "text/plain": [
       "   country_id   hdi  unemployment  population   gdp   gni  inflation  \\\n",
       "0         139  0.00          0.00        0.00 -0.00  0.00       0.00   \n",
       "1         193 -0.40         -0.48        0.55 -0.31 -0.42       0.09   \n",
       "2           0 -0.63         -0.95        0.35 -0.09 -0.03      -0.40   \n",
       "3          96  0.34          0.48        0.68  0.03  0.12       0.00   \n",
       "4         148 -0.14         -0.92       -0.87 -0.14 -0.29       0.27   \n",
       "\n",
       "   infant_mortality  ClusterID  \n",
       "0             -0.00          2  \n",
       "1              0.40          0  \n",
       "2              0.08          0  \n",
       "3              0.25          1  \n",
       "4              0.02          0  "
      ]
     },
     "execution_count": 44,
     "metadata": {},
     "output_type": "execute_result"
    }
   ],
   "source": [
    "dat6=dat5.drop(['PC1','PC2','PC3','PC4','PC5'],axis=1)\n",
    "dat6.head()"
   ]
  },
  {
   "cell_type": "code",
   "execution_count": 45,
   "metadata": {},
   "outputs": [
    {
     "data": {
      "image/png": "[encoded data removed]",
      "text/plain": [
       "<Figure size 576x576 with 1 Axes>"
      ]
     },
     "metadata": {
      "needs_background": "light"
     },
     "output_type": "display_data"
    }
   ],
   "source": [
    "fig = plt.figure(figsize = (8,8))\n",
    "sns.scatterplot(x='country_id',y='gdp',hue='ClusterID',legend='full',data=dat6)\n",
    "\n",
    "plt.title('Categories of countries on the basis of Socio-Economic factors')\n",
    "plt.show()"
   ]
  },
  {
   "cell_type": "code",
   "execution_count": 46,
   "metadata": {},
   "outputs": [
    {
     "data": {
      "image/png": "[encoded data removed]",
      "text/plain": [
       "<Figure size 864x576 with 1 Axes>"
      ]
     },
     "metadata": {
      "needs_background": "light"
     },
     "output_type": "display_data"
    }
   ],
   "source": [
    "fig = plt.figure(figsize = (12,8))\n",
    "sns.boxplot(x='ClusterID',y='gdp',data=dat6)\n",
    "plt.xlabel('Country Groups', fontsize=10)\n",
    "plt.title('GDP per Capita of all the Country Groups')\n",
    "plt.show()"
   ]
  },
  {
   "cell_type": "code",
   "execution_count": 47,
   "metadata": {},
   "outputs": [],
   "source": [
    "dat6.to_csv(\"data-clustering.csv\",index=False)"
   ]
  }
 ],
 "metadata": {
  "kernelspec": {
   "display_name": "Python 3",
   "language": "python",
   "name": "python3"
  },
  "language_info": {
   "codemirror_mode": {
    "name": "ipython",
    "version": 3
   },
   "file_extension": ".py",
   "mimetype": "text/x-python",
   "name": "python",
   "nbconvert_exporter": "python",
   "pygments_lexer": "ipython3",
   "version": "3.8.2"
  }
 },
 "nbformat": 4,
 "nbformat_minor": 4
}
